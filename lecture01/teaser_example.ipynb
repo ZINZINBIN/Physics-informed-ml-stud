{
 "cells": [
  {
   "cell_type": "code",
   "execution_count": 1,
   "metadata": {},
   "outputs": [
    {
     "name": "stderr",
     "output_type": "stream",
     "text": [
      "/home/zinzinbin/.conda/envs/research-env/lib/python3.9/site-packages/tqdm/auto.py:22: TqdmWarning: IProgress not found. Please update jupyter and ipywidgets. See https://ipywidgets.readthedocs.io/en/stable/user_install.html\n",
      "  from .autonotebook import tqdm as notebook_tqdm\n"
     ]
    }
   ],
   "source": [
    "import numpy as np\n",
    "import torch\n",
    "import matplotlib.pyplot as plt\n",
    "\n",
    "# X-Data\n",
    "N = 200\n",
    "X = np.random.random(N)\n",
    "\n",
    "sign = (-np.ones((N, )))**np.random.randint(2,size=N)\n",
    "Y = np.sqrt(X) * sign"
   ]
  },
  {
   "cell_type": "code",
   "execution_count": 28,
   "metadata": {},
   "outputs": [],
   "source": [
    "class SimpleDNN(torch.nn.Module):\n",
    "    def __init__(self, input_dims, output_dims, hiddens):\n",
    "        super(SimpleDNN, self).__init__()\n",
    "        self.input_dims = input_dims\n",
    "        self.output_dims = output_dims\n",
    "        self.hiddens = hiddens\n",
    "\n",
    "        self.input_layer = torch.nn.Linear(input_dims, hiddens)\n",
    "        self.bn1 = torch.nn.BatchNorm1d(hiddens)\n",
    "        self.middle_layer = torch.nn.Linear(hiddens, hiddens)\n",
    "        self.bn2 = torch.nn.BatchNorm1d(hiddens)\n",
    "        self.output_layer = torch.nn.Linear(hiddens, output_dims)\n",
    "\n",
    "    def forward(self, inputs : torch.Tensor)->None:\n",
    "        x = torch.nn.functional.relu(self.bn1(self.input_layer(inputs)))\n",
    "        x = torch.nn.functional.relu(self.bn2(self.middle_layer(x)))\n",
    "        x = self.output_layer(x)\n",
    "\n",
    "        return x"
   ]
  },
  {
   "cell_type": "code",
   "execution_count": 33,
   "metadata": {},
   "outputs": [],
   "source": [
    "from tqdm import tqdm\n",
    "\n",
    "def train_per_epoch(\n",
    "    model : torch.nn.Module, \n",
    "    dataloader : torch.utils.data.DataLoader, \n",
    "    optimizer : torch.optim.Optimizer,\n",
    "    loss_fn : torch.nn.Module, \n",
    "    device : str = \"cpu\"):\n",
    "\n",
    "    train_loss = 0\n",
    "\n",
    "    for idx, batch in enumerate(dataloader):\n",
    "\n",
    "        optimizer.zero_grad()\n",
    "\n",
    "        batch_x, batch_y = batch\n",
    "        batch_x = batch_x.to(device)\n",
    "        batch_y = batch_y.to(device)\n",
    "\n",
    "        batch_output = model(batch_x)\n",
    "        batch_loss = loss_fn(batch_output, batch_y)\n",
    "\n",
    "        batch_loss.backward()\n",
    "        optimizer.step()\n",
    "        \n",
    "        train_loss += batch_loss.detach().cpu().numpy()\n",
    "\n",
    "    train_loss /= idx + 1\n",
    "\n",
    "    return train_loss\n",
    "    \n",
    "\n",
    "def train(\n",
    "    model : torch.nn.Module, \n",
    "    dataloader : torch.utils.data.DataLoader, \n",
    "    optimizer : torch.optim.Optimizer,\n",
    "    loss_fn : torch.nn.Module, \n",
    "    num_epochs : int = 42,\n",
    "    device : str = \"cpu\"\n",
    "    ):\n",
    "\n",
    "    train_loss_list = []\n",
    "\n",
    "    for epoch in tqdm(range(num_epochs)):\n",
    "        train_loss = train_per_epoch(\n",
    "            model,\n",
    "            dataloader,\n",
    "            optimizer,\n",
    "            loss_fn,\n",
    "            device\n",
    "        )\n",
    "\n",
    "        train_loss_list.append(train_loss)\n",
    "\n",
    "    return train_loss_list"
   ]
  },
  {
   "cell_type": "code",
   "execution_count": 34,
   "metadata": {},
   "outputs": [],
   "source": [
    "class SampleDataset(torch.utils.data.Dataset):\n",
    "    def __init__(self, X, Y):\n",
    "        super(SampleDataset, self).__init__()\n",
    "        self.X = X\n",
    "        self.Y = Y\n",
    "    \n",
    "    def __getitem__(self, idx):\n",
    "        batch_x = X[idx]\n",
    "        batch_y = Y[idx]\n",
    "\n",
    "        batch_x = torch.tensor([batch_x], dtype = torch.float32)\n",
    "        batch_y = torch.tensor([batch_y], dtype = torch.float32)\n",
    "\n",
    "        return batch_x, batch_y\n",
    "\n",
    "    def __len__(self):\n",
    "        return len(self.X)\n",
    "\n",
    "dataset = SampleDataset(X,Y)\n",
    "dataloader = torch.utils.data.DataLoader(dataset, num_workers=4, batch_size=16, shuffle = True)"
   ]
  },
  {
   "cell_type": "code",
   "execution_count": 35,
   "metadata": {},
   "outputs": [
    {
     "name": "stdout",
     "output_type": "stream",
     "text": [
      "sample_x :  torch.Size([16, 1])\n",
      "sample_y :  torch.Size([16, 1])\n"
     ]
    }
   ],
   "source": [
    "sample_x, sample_y = next(iter(dataloader))\n",
    "\n",
    "print(\"sample_x : \", sample_x.size())\n",
    "print(\"sample_y : \", sample_y.size())"
   ]
  },
  {
   "cell_type": "code",
   "execution_count": 38,
   "metadata": {},
   "outputs": [
    {
     "name": "stdout",
     "output_type": "stream",
     "text": [
      "torch.cuda available :  True\n",
      "# of device :  2\n"
     ]
    },
    {
     "name": "stderr",
     "output_type": "stream",
     "text": [
      "100%|██████████| 64/64 [00:12<00:00,  5.07it/s]\n"
     ]
    }
   ],
   "source": [
    "model = SimpleDNN(1, 1, 16)\n",
    "loss_fn = torch.nn.MSELoss(reduction = \"mean\")\n",
    "optimizer = torch.optim.AdamW(model.parameters(), lr = 1e-3)\n",
    "\n",
    "print(\"torch.cuda available : \", torch.cuda.is_available())\n",
    "print(\"# of device : \", torch.cuda.device_count())\n",
    "\n",
    "device = \"cuda:0\"\n",
    "\n",
    "model.to(device)\n",
    "\n",
    "train_loss_list = train(\n",
    "    model = model,\n",
    "    dataloader = dataloader,\n",
    "    optimizer = optimizer,\n",
    "    loss_fn=loss_fn,\n",
    "    num_epochs=64,\n",
    "    device = device\n",
    ")"
   ]
  },
  {
   "cell_type": "code",
   "execution_count": 39,
   "metadata": {},
   "outputs": [
    {
     "data": {
      "image/png": "[encoded data removed]",
      "text/plain": [
       "<Figure size 432x288 with 1 Axes>"
      ]
     },
     "metadata": {
      "needs_background": "light"
     },
     "output_type": "display_data"
    }
   ],
   "source": [
    "# train curve\n",
    "epochs = range(1, len(train_loss_list) + 1)\n",
    "plt.plot(epochs, train_loss_list, 'ro-', label = \"train curve\")\n",
    "plt.xlabel(\"epochs\")\n",
    "plt.ylabel(\"loss\")\n",
    "plt.legend()\n",
    "plt.show()"
   ]
  },
  {
   "cell_type": "code",
   "execution_count": 51,
   "metadata": {},
   "outputs": [
    {
     "data": {
      "image/png": "[encoded data removed]",
      "text/plain": [
       "<Figure size 432x288 with 1 Axes>"
      ]
     },
     "metadata": {
      "needs_background": "light"
     },
     "output_type": "display_data"
    }
   ],
   "source": [
    "model.eval()\n",
    "\n",
    "Xs = []\n",
    "reals = []\n",
    "predictions = []\n",
    "\n",
    "with torch.no_grad():\n",
    "    for idx, batch in enumerate(dataloader):\n",
    "        optimizer.zero_grad()\n",
    "\n",
    "        batch_x, batch_y = batch\n",
    "        batch_x = batch_x.to(device)\n",
    "        batch_y = batch_y.to(device)\n",
    "\n",
    "        batch_output = model(batch_x)\n",
    "\n",
    "        Xs.extend(batch_x.cpu().numpy().reshape(-1,).tolist())\n",
    "        reals.extend(batch_y.cpu().numpy().reshape(-1,).tolist())\n",
    "        predictions.extend(batch_output.cpu().numpy().reshape(-1,).tolist())\n",
    "        \n",
    "# Results\n",
    "plt.plot(Xs, reals,'.',label='Data points', color=\"lightgray\") \n",
    "plt.plot(Xs, predictions, '.',label='Supervised', color=\"red\") \n",
    "plt.xlabel('y')\n",
    "plt.ylabel('x')\n",
    "plt.title('Standard approach') \n",
    "plt.legend()\n",
    "plt.show()"
   ]
  },
  {
   "cell_type": "code",
   "execution_count": 52,
   "metadata": {},
   "outputs": [
    {
     "name": "stdout",
     "output_type": "stream",
     "text": [
      "torch.cuda available :  True\n",
      "# of device :  2\n"
     ]
    },
    {
     "name": "stderr",
     "output_type": "stream",
     "text": [
      "100%|██████████| 64/64 [00:12<00:00,  5.09it/s]\n"
     ]
    },
    {
     "data": {
      "image/png": "[encoded data removed]",
      "text/plain": [
       "<Figure size 432x288 with 1 Axes>"
      ]
     },
     "metadata": {
      "needs_background": "light"
     },
     "output_type": "display_data"
    }
   ],
   "source": [
    "# loss_fn change\n",
    "\n",
    "def loss_fn_edit(y_pred, y_true):\n",
    "    return loss_fn(y_pred ** 2, y_true)\n",
    "\n",
    "model = SimpleDNN(1, 1, 16)\n",
    "loss_fn = torch.nn.MSELoss(reduction = \"mean\")\n",
    "optimizer = torch.optim.AdamW(model.parameters(), lr = 1e-3)\n",
    "\n",
    "print(\"torch.cuda available : \", torch.cuda.is_available())\n",
    "print(\"# of device : \", torch.cuda.device_count())\n",
    "\n",
    "device = \"cuda:0\"\n",
    "\n",
    "model.to(device)\n",
    "\n",
    "train_loss_list = train(\n",
    "    model = model,\n",
    "    dataloader = dataloader,\n",
    "    optimizer = optimizer,\n",
    "    loss_fn=loss_fn_edit,\n",
    "    num_epochs=64,\n",
    "    device = device\n",
    ")\n",
    "\n",
    "model.eval()\n",
    "\n",
    "Xs = []\n",
    "reals = []\n",
    "predictions = []\n",
    "\n",
    "with torch.no_grad():\n",
    "    for idx, batch in enumerate(dataloader):\n",
    "        optimizer.zero_grad()\n",
    "\n",
    "        batch_x, batch_y = batch\n",
    "        batch_x = batch_x.to(device)\n",
    "        batch_y = batch_y.to(device)\n",
    "\n",
    "        batch_output = model(batch_x)\n",
    "\n",
    "        Xs.extend(batch_x.cpu().numpy().reshape(-1,).tolist())\n",
    "        reals.extend(batch_y.cpu().numpy().reshape(-1,).tolist())\n",
    "        predictions.extend(batch_output.cpu().numpy().reshape(-1,).tolist())\n",
    "        \n",
    "# Results\n",
    "plt.plot(Xs, reals,'.',label='Data points', color=\"lightgray\") \n",
    "plt.plot(Xs, predictions, '.',label='Supervised', color=\"red\") \n",
    "plt.xlabel('y')\n",
    "plt.ylabel('x')\n",
    "plt.title('Standard approach') \n",
    "plt.legend()\n",
    "plt.show()"
   ]
  }
 ],
 "metadata": {
  "interpreter": {
   "hash": "b7bc8097f24747f72629445db54bed151603a8d63744e142002cb75630cca553"
  },
  "kernelspec": {
   "display_name": "Python 3.9.7 ('research-env': conda)",
   "language": "python",
   "name": "python3"
  },
  "language_info": {
   "codemirror_mode": {
    "name": "ipython",
    "version": 3
   },
   "file_extension": ".py",
   "mimetype": "text/x-python",
   "name": "python",
   "nbconvert_exporter": "python",
   "pygments_lexer": "ipython3",
   "version": "3.9.7"
  },
  "orig_nbformat": 4
 },
 "nbformat": 4,
 "nbformat_minor": 2
}
